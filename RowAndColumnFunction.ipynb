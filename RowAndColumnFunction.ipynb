{
 "cells": [
  {
   "cell_type": "code",
   "execution_count": 1,
   "id": "883885a1-3f01-4ac1-8145-9783b06b9f56",
   "metadata": {},
   "outputs": [],
   "source": [
    "import os\n",
    "import sys\n",
    "from pyspark import SparkContext\n",
    "os.environ['PYSPARK_PYTHON'] = sys.executable\n",
    "os.environ['PYSPARK_DRIVER_PYTHON'] = sys.executable"
   ]
  },
  {
   "cell_type": "code",
   "execution_count": 2,
   "id": "e9e21a66-dc70-4d6b-af84-2e436fbbbbf0",
   "metadata": {},
   "outputs": [
    {
     "name": "stdout",
     "output_type": "stream",
     "text": [
      "<pyspark.sql.session.SparkSession object at 0x000001ECB8259C60>\n",
      "<SparkContext master=local[*] appName=df-project>\n"
     ]
    }
   ],
   "source": [
    "from pyspark.sql import SparkSession\n",
    "spark = SparkSession.builder.appName('df-project').getOrCreate()\n",
    "print(spark)\n",
    "sc = spark.sparkContext\n",
    "print(sc)"
   ]
  },
  {
   "cell_type": "code",
   "execution_count": 4,
   "id": "21c20dd2-a140-43b0-ad3e-f13e9f3d7498",
   "metadata": {},
   "outputs": [
    {
     "name": "stdout",
     "output_type": "stream",
     "text": [
      "Accessing Name property from Row object :Robert\n"
     ]
    },
    {
     "data": {
      "text/plain": [
       "True"
      ]
     },
     "execution_count": 4,
     "metadata": {},
     "output_type": "execute_result"
    }
   ],
   "source": [
    "#Working with ROWs\n",
    "from pyspark.sql import Row\n",
    "row = Row(name=\"Robert\",age=34)\n",
    "type(row)\n",
    "print(\"Accessing Name property from Row object :\" + row.name)\n",
    "\n",
    "#Using in operator\n",
    "\"name\" in row \n",
    "\"name1\" in row \n",
    "\"Robert\" in row.name\n",
    "\"Robert1\" in row.name\n"
   ]
  },
  {
   "cell_type": "code",
   "execution_count": 5,
   "id": "b2945249-6d3d-42f2-a221-cf6021f79f8e",
   "metadata": {},
   "outputs": [
    {
     "name": "stdout",
     "output_type": "stream",
     "text": [
      "Robert\n",
      "alicia\n"
     ]
    }
   ],
   "source": [
    "# Creating the RDD using the ROWs function \n",
    "lst=[Row(name=\"Robert\",age=34),Row(name=\"alicia\",age=45)]\n",
    "schema = [\"Name\",\"Age\"]\n",
    "\n",
    "rdd = sc.parallelize(lst)\n",
    "for i in rdd.take(2) : print(i.name)"
   ]
  },
  {
   "cell_type": "code",
   "execution_count": 5,
   "id": "33645549-70db-4204-a354-ddbb8d55ab8c",
   "metadata": {},
   "outputs": [
    {
     "name": "stdout",
     "output_type": "stream",
     "text": [
      "Robert\n",
      "34\n",
      "Robert\n",
      "alicia\n"
     ]
    }
   ],
   "source": [
    "#Using Custom Row \n",
    "Person = Row(\"Name\",\"Age\")\n",
    "p1 = Person(\"Robert\",34)\n",
    "p2 = Person(\"alicia\",56)\n",
    "#Accessing the object values \n",
    "print(p1.Name)\n",
    "print(p1.Age)\n",
    "\n",
    "#Creating the RDD using Custom Rows\n",
    "lst=[Person(\"Robert\",34),Person(\"alicia\",38)]\n",
    "rdd = sc.parallelize(lst)\n",
    "for i in rdd.take(2):print(i.Name)\n"
   ]
  },
  {
   "cell_type": "code",
   "execution_count": 6,
   "id": "68595c56-556f-4712-90a8-722658a7b8bc",
   "metadata": {},
   "outputs": [
    {
     "data": {
      "text/plain": [
       "Row(Name='Alice', age=34, username='Alice')"
      ]
     },
     "execution_count": 6,
     "metadata": {},
     "output_type": "execute_result"
    }
   ],
   "source": [
    "#Using few Row functions\n",
    "Person=Row(Name=\"Alice\",age=34,username=\"Alice\")\n",
    "Person.count('Alice')\n",
    "Person.count(34)\n",
    "\n",
    "#index\n",
    "Person.index(34)\n",
    "Person"
   ]
  },
  {
   "cell_type": "code",
   "execution_count": 7,
   "id": "099a9934-3125-4f33-ba1c-3232e5191ee1",
   "metadata": {},
   "outputs": [
    {
     "name": "stdout",
     "output_type": "stream",
     "text": [
      "+----------+-----+--------+------------------+------+------------+-------------+--------------+--------------+-----------------+--------------+-----------------+--------------+--------------+--------------+-----------------+-------------+-------------------+\n",
      "|      Year|State|     LOB|Benchmark_category|source| averageName|5thpercentile|10thpercentile|25thPercentile|33_33thPercentile|50thPercentile|66_67thPercentile|75thPercentile|90thPercentile|95thPercentile|   base_measureid|sub_measureid|   base_measuredesc|\n",
      "+----------+-----+--------+------------------+------+------------+-------------+--------------+--------------+-----------------+--------------+-----------------+--------------+--------------+--------------+-----------------+-------------+-------------------+\n",
      "|HEDIS_2021|   FL|Medicaid|Benchmarkcategory1| test1|averageName1|           51|           101|           251|              331|           501|              661|           751|           901|            01|cs_basemeasureid1|         IMA4|cs_basemeasuredesc1|\n",
      "|HEDIS_2022|   FL|Medicaid|Benchmarkcategory2| test2|averageName2|           52|           102|           252|              332|           502|              662|           752|           902|           952|cs_basemeasureid2|        CIS12|cs_basemeasuredesc2|\n",
      "|HEDIS_2021|   VA|Medicaid|Benchmarkcategory3| test3|averageName3|           53|           103|           253|              333|           503|              663|           753|           903|           953|cs_basemeasureid3|        CIS12|cs_basemeasuredesc3|\n",
      "|HEDIS_2021|   OH|Medicaid|Benchmarkcategory4| test4|averageName4|           51|           101|           251|              331|           501|              661|           751|           901|            01|cs_basemeasureid4|         IMA4|cs_basemeasuredesc4|\n",
      "|HEDIS_2022|   OH|Medicaid|Benchmarkcategory5| test5|averageName5|           52|           102|           252|              332|           502|              662|           752|           902|           952|cs_basemeasureid5|        CIS12|cs_basemeasuredesc5|\n",
      "+----------+-----+--------+------------------+------+------------+-------------+--------------+--------------+-----------------+--------------+-----------------+--------------+--------------+--------------+-----------------+-------------+-------------------+\n",
      "\n",
      "root\n",
      " |-- Year: string (nullable = true)\n",
      " |-- State: string (nullable = true)\n",
      " |-- LOB: string (nullable = true)\n",
      " |-- Benchmark_category: string (nullable = true)\n",
      " |-- source: string (nullable = true)\n",
      " |-- averageName: string (nullable = true)\n",
      " |-- 5thpercentile: string (nullable = true)\n",
      " |-- 10thpercentile: string (nullable = true)\n",
      " |-- 25thPercentile: string (nullable = true)\n",
      " |-- 33_33thPercentile: string (nullable = true)\n",
      " |-- 50thPercentile: string (nullable = true)\n",
      " |-- 66_67thPercentile: string (nullable = true)\n",
      " |-- 75thPercentile: string (nullable = true)\n",
      " |-- 90thPercentile: string (nullable = true)\n",
      " |-- 95thPercentile: string (nullable = true)\n",
      " |-- base_measureid: string (nullable = true)\n",
      " |-- sub_measureid: string (nullable = true)\n",
      " |-- base_measuredesc: string (nullable = true)\n",
      "\n",
      "+----------+\n",
      "|      Year|\n",
      "+----------+\n",
      "|HEDIS_2021|\n",
      "|HEDIS_2022|\n",
      "|HEDIS_2021|\n",
      "|HEDIS_2021|\n",
      "|HEDIS_2022|\n",
      "+----------+\n",
      "\n",
      "+----------+\n",
      "|      Year|\n",
      "+----------+\n",
      "|HEDIS_2021|\n",
      "|HEDIS_2022|\n",
      "|HEDIS_2021|\n",
      "|HEDIS_2021|\n",
      "|HEDIS_2022|\n",
      "+----------+\n",
      "\n",
      "+----------+-----+--------+------------------+------+------------+-------------+--------------+--------------+-----------------+--------------+-----------------+--------------+--------------+--------------+-----------------+-------------+-------------------+\n",
      "|      Year|State|     LOB|Benchmark_category|source| averageName|5thpercentile|10thpercentile|25thPercentile|33_33thPercentile|50thPercentile|66_67thPercentile|75thPercentile|90thPercentile|95thPercentile|   base_measureid|sub_measureid|   base_measuredesc|\n",
      "+----------+-----+--------+------------------+------+------------+-------------+--------------+--------------+-----------------+--------------+-----------------+--------------+--------------+--------------+-----------------+-------------+-------------------+\n",
      "|HEDIS_2021|   FL|Medicaid|Benchmarkcategory1| test1|averageName1|           51|           101|           251|              331|           501|              661|           751|           901|            01|cs_basemeasureid1|         IMA4|cs_basemeasuredesc1|\n",
      "|HEDIS_2022|   FL|Medicaid|Benchmarkcategory2| test2|averageName2|           52|           102|           252|              332|           502|              662|           752|           902|           952|cs_basemeasureid2|        CIS12|cs_basemeasuredesc2|\n",
      "|HEDIS_2021|   VA|Medicaid|Benchmarkcategory3| test3|averageName3|           53|           103|           253|              333|           503|              663|           753|           903|           953|cs_basemeasureid3|        CIS12|cs_basemeasuredesc3|\n",
      "|HEDIS_2021|   OH|Medicaid|Benchmarkcategory4| test4|averageName4|           51|           101|           251|              331|           501|              661|           751|           901|            01|cs_basemeasureid4|         IMA4|cs_basemeasuredesc4|\n",
      "|HEDIS_2022|   OH|Medicaid|Benchmarkcategory5| test5|averageName5|           52|           102|           252|              332|           502|              662|           752|           902|           952|cs_basemeasureid5|        CIS12|cs_basemeasuredesc5|\n",
      "+----------+-----+--------+------------------+------+------------+-------------+--------------+--------------+-----------------+--------------+-----------------+--------------+--------------+--------------+-----------------+-------------+-------------------+\n",
      "\n",
      "+----------+\n",
      "|      Year|\n",
      "+----------+\n",
      "|HEDIS_2021|\n",
      "|HEDIS_2022|\n",
      "|HEDIS_2021|\n",
      "|HEDIS_2021|\n",
      "|HEDIS_2022|\n",
      "+----------+\n",
      "\n"
     ]
    }
   ],
   "source": [
    "df = spark.read.load('D:\\SpectraMD\\Feed\\Benchmarks',format='csv',sep='|',header=True)\n",
    "df.show()\n",
    "df.printSchema()\n",
    "\n",
    "# accessing the columns \n",
    "df.select(df.Year).show()\n",
    "#other Way \n",
    "df.select(df[\"Year\"]).show()\n",
    "\n",
    "#Using col function\n",
    "from pyspark.sql.functions import col\n",
    "df.select(col(\"*\")).show() # To access all the columns in dataframe\n",
    "df.select(col(\"Year\")).show() # To access specific column in datafram\n",
    "\n"
   ]
  },
  {
   "cell_type": "code",
   "execution_count": 8,
   "id": "9f019a97-7435-4fd7-bb41-5deb37c5177b",
   "metadata": {},
   "outputs": [
    {
     "name": "stdout",
     "output_type": "stream",
     "text": [
      "+----------+-----+--------+------------------+------+------------+-------------+--------------+--------------+-----------------+--------------+-----------------+--------------+--------------+\n",
      "|      Year|State|     LOB|Benchmark_category|source| averageName|5thpercentile|10thpercentile|25thPercentile|33_33thPercentile|50thPercentile|66_67thPercentile|75thPercentile|90thPercentile|\n",
      "+----------+-----+--------+------------------+------+------------+-------------+--------------+--------------+-----------------+--------------+-----------------+--------------+--------------+\n",
      "|HEDIS_2021|   FL|Medicaid|Benchmarkcategory1| test1|averageName1|           51|           101|           251|              331|           501|              661|           751|           901|\n",
      "|HEDIS_2022|   FL|Medicaid|Benchmarkcategory2| test2|averageName2|           52|           102|           252|              332|           502|              662|           752|           902|\n",
      "|HEDIS_2021|   VA|Medicaid|Benchmarkcategory3| test3|averageName3|           53|           103|           253|              333|           503|              663|           753|           903|\n",
      "|HEDIS_2021|   OH|Medicaid|Benchmarkcategory4| test4|averageName4|           51|           101|           251|              331|           501|              661|           751|           901|\n",
      "|HEDIS_2022|   OH|Medicaid|Benchmarkcategory5| test5|averageName5|           52|           102|           252|              332|           502|              662|           752|           902|\n",
      "+----------+-----+--------+------------------+------+------------+-------------+--------------+--------------+-----------------+--------------+-----------------+--------------+--------------+\n",
      "\n",
      "+----------+-----+--------+------------------+------+------------+-------------+--------------+--------------+-----------------+--------------+-----------------+--------------+--------------+\n",
      "|      Year|State|     LOB|Benchmark_category|source| averageName|5thpercentile|10thpercentile|25thPercentile|33_33thPercentile|50thPercentile|66_67thPercentile|75thPercentile|90thPercentile|\n",
      "+----------+-----+--------+------------------+------+------------+-------------+--------------+--------------+-----------------+--------------+-----------------+--------------+--------------+\n",
      "|HEDIS_2021|   FL|Medicaid|Benchmarkcategory1| test1|averageName1|           51|           101|           251|              331|           501|              661|           751|           901|\n",
      "|HEDIS_2022|   FL|Medicaid|Benchmarkcategory2| test2|averageName2|           52|           102|           252|              332|           502|              662|           752|           902|\n",
      "|HEDIS_2021|   VA|Medicaid|Benchmarkcategory3| test3|averageName3|           53|           103|           253|              333|           503|              663|           753|           903|\n",
      "|HEDIS_2021|   OH|Medicaid|Benchmarkcategory4| test4|averageName4|           51|           101|           251|              331|           501|              661|           751|           901|\n",
      "|HEDIS_2022|   OH|Medicaid|Benchmarkcategory5| test5|averageName5|           52|           102|           252|              332|           502|              662|           752|           902|\n",
      "+----------+-----+--------+------------------+------+------------+-------------+--------------+--------------+-----------------+--------------+-----------------+--------------+--------------+\n",
      "\n",
      "+----------+\n",
      "|     Year2|\n",
      "+----------+\n",
      "|HEDIS_2021|\n",
      "|HEDIS_2022|\n",
      "|HEDIS_2021|\n",
      "|HEDIS_2021|\n",
      "|HEDIS_2022|\n",
      "+----------+\n",
      "\n",
      "+----------+-----+--------+------------------+------+------------+-------------+--------------+--------------+-----------------+--------------+-----------------+--------------+--------------+\n",
      "|      Year|State|     LOB|Benchmark_category|source| averageName|5thpercentile|10thpercentile|25thPercentile|33_33thPercentile|50thPercentile|66_67thPercentile|75thPercentile|90thPercentile|\n",
      "+----------+-----+--------+------------------+------+------------+-------------+--------------+--------------+-----------------+--------------+-----------------+--------------+--------------+\n",
      "|HEDIS_2021|   FL|Medicaid|Benchmarkcategory1| test1|averageName1|           51|           101|           251|              331|           501|              661|           751|           901|\n",
      "|HEDIS_2021|   OH|Medicaid|Benchmarkcategory4| test4|averageName4|           51|           101|           251|              331|           501|              661|           751|           901|\n",
      "|HEDIS_2022|   FL|Medicaid|Benchmarkcategory2| test2|averageName2|           52|           102|           252|              332|           502|              662|           752|           902|\n",
      "|HEDIS_2022|   OH|Medicaid|Benchmarkcategory5| test5|averageName5|           52|           102|           252|              332|           502|              662|           752|           902|\n",
      "|HEDIS_2021|   VA|Medicaid|Benchmarkcategory3| test3|averageName3|           53|           103|           253|              333|           503|              663|           753|           903|\n",
      "+----------+-----+--------+------------------+------+------------+-------------+--------------+--------------+-----------------+--------------+-----------------+--------------+--------------+\n",
      "\n",
      "+------+\n",
      "|source|\n",
      "+------+\n",
      "| test1|\n",
      "| test4|\n",
      "| test2|\n",
      "| test5|\n",
      "| test3|\n",
      "+------+\n",
      "\n",
      "+-----+\n",
      "|State|\n",
      "+-----+\n",
      "|   FL|\n",
      "|   FL|\n",
      "|   VA|\n",
      "|   OH|\n",
      "|   OH|\n",
      "+-----+\n",
      "\n",
      "+----------+-----+--------+------------------+------+------------+-------------+--------------+--------------+-----------------+--------------+-----------------+--------------+--------------+\n",
      "|      Year|State|     LOB|Benchmark_category|source| averageName|5thpercentile|10thpercentile|25thPercentile|33_33thPercentile|50thPercentile|66_67thPercentile|75thPercentile|90thPercentile|\n",
      "+----------+-----+--------+------------------+------+------------+-------------+--------------+--------------+-----------------+--------------+-----------------+--------------+--------------+\n",
      "|HEDIS_2022|   FL|Medicaid|Benchmarkcategory2| test2|averageName2|           52|           102|           252|              332|           502|              662|           752|           902|\n",
      "|HEDIS_2021|   VA|Medicaid|Benchmarkcategory3| test3|averageName3|           53|           103|           253|              333|           503|              663|           753|           903|\n",
      "|HEDIS_2022|   OH|Medicaid|Benchmarkcategory5| test5|averageName5|           52|           102|           252|              332|           502|              662|           752|           902|\n",
      "+----------+-----+--------+------------------+------+------------+-------------+--------------+--------------+-----------------+--------------+-----------------+--------------+--------------+\n",
      "\n",
      "+----------+-----+--------+------------------+------+------------+-------------+--------------+--------------+-----------------+--------------+-----------------+--------------+--------------+\n",
      "|      Year|State|     LOB|Benchmark_category|source| averageName|5thpercentile|10thpercentile|25thPercentile|33_33thPercentile|50thPercentile|66_67thPercentile|75thPercentile|90thPercentile|\n",
      "+----------+-----+--------+------------------+------+------------+-------------+--------------+--------------+-----------------+--------------+-----------------+--------------+--------------+\n",
      "|HEDIS_2021|   FL|Medicaid|Benchmarkcategory1| test1|averageName1|           51|           101|           251|              331|           501|              661|           751|           901|\n",
      "|HEDIS_2022|   FL|Medicaid|Benchmarkcategory2| test2|averageName2|           52|           102|           252|              332|           502|              662|           752|           902|\n",
      "+----------+-----+--------+------------------+------+------------+-------------+--------------+--------------+-----------------+--------------+-----------------+--------------+--------------+\n",
      "\n",
      "+----------+-----+--------+------------------+------+------------+-------------+--------------+--------------+-----------------+--------------+-----------------+--------------+--------------+\n",
      "|      Year|State|     LOB|Benchmark_category|source| averageName|5thpercentile|10thpercentile|25thPercentile|33_33thPercentile|50thPercentile|66_67thPercentile|75thPercentile|90thPercentile|\n",
      "+----------+-----+--------+------------------+------+------------+-------------+--------------+--------------+-----------------+--------------+-----------------+--------------+--------------+\n",
      "|HEDIS_2021|   FL|Medicaid|Benchmarkcategory1| test1|averageName1|           51|           101|           251|              331|           501|              661|           751|           901|\n",
      "|HEDIS_2022|   FL|Medicaid|Benchmarkcategory2| test2|averageName2|           52|           102|           252|              332|           502|              662|           752|           902|\n",
      "+----------+-----+--------+------------------+------+------------+-------------+--------------+--------------+-----------------+--------------+-----------------+--------------+--------------+\n",
      "\n"
     ]
    }
   ],
   "source": [
    "#\n",
    "df = spark.read.load('D:\\SpectraMD\\Feed\\Benchmarks',format='csv',sep='|',header=True,schema=( 'Year string,State  string,     LOB string,Benchmark_category string,source string, averageName string,5thpercentile string,10thpercentile string,25thPercentile string,33_33thPercentile string,50thPercentile string,66_67thPercentile int,75thPercentile int,90thPercentile int'))\n",
    "df.show()\n",
    "\n",
    "#To Select all the columns\n",
    "df.select(col(\"*\")).show()\n",
    "\n",
    "#alias \n",
    "df.select(col('Year').alias('Year2')).show()\n",
    "\n",
    "#using the orderby function\n",
    "df.orderBy(col('5thpercentile').asc()).show()\n",
    "# fetching the specific column \n",
    "df.orderBy(col('5thpercentile').asc()).select('source').show()\n",
    "\n",
    "#Cast funtion\n",
    "df.select(df.State.cast(\"string\")).show()\n",
    "\n",
    "#between function\n",
    "df.where(col(\"25thPercentile\").between(252,253)).show()\n",
    "\n",
    "# contains\n",
    "df.where(col(\"State\").contains('FL')).show()\n",
    "\n",
    "#like function\n",
    "df.where(col(\"State\").like('%FL%')).show()\n",
    "\n",
    "#isin is use for multiple vales\n",
    "\n",
    "\n"
   ]
  },
  {
   "cell_type": "code",
   "execution_count": null,
   "id": "3e9fb3c4-3a24-4952-a5b5-19466ad52d3c",
   "metadata": {},
   "outputs": [],
   "source": []
  }
 ],
 "metadata": {
  "kernelspec": {
   "display_name": "Python 3 (ipykernel)",
   "language": "python",
   "name": "python3"
  },
  "language_info": {
   "codemirror_mode": {
    "name": "ipython",
    "version": 3
   },
   "file_extension": ".py",
   "mimetype": "text/x-python",
   "name": "python",
   "nbconvert_exporter": "python",
   "pygments_lexer": "ipython3",
   "version": "3.10.12"
  }
 },
 "nbformat": 4,
 "nbformat_minor": 5
}
