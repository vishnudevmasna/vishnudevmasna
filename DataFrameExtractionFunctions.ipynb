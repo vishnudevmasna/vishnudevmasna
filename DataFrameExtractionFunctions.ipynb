{
 "cells": [
  {
   "cell_type": "code",
   "execution_count": 1,
   "id": "a6cc9bef-bca9-40b0-971c-d90875106a8b",
   "metadata": {},
   "outputs": [],
   "source": [
    "import os\n",
    "import sys\n",
    "from pyspark import SparkContext\n",
    "os.environ['PYSPARK_PYTHON'] = sys.executable\n",
    "os.environ['PYSPARK_DRIVER_PYTHON'] = sys.executable"
   ]
  },
  {
   "cell_type": "code",
   "execution_count": 2,
   "id": "17360b31-597c-46cb-8c41-38f3ea8a654c",
   "metadata": {},
   "outputs": [
    {
     "name": "stdout",
     "output_type": "stream",
     "text": [
      "<pyspark.sql.session.SparkSession object at 0x0000018A63A41CF0>\n",
      "<SparkContext master=local[*] appName=df-project>\n"
     ]
    }
   ],
   "source": [
    "from pyspark.sql import SparkSession\n",
    "spark = SparkSession.builder.appName('df-project').getOrCreate()\n",
    "print(spark)\n",
    "sc = spark.sparkContext\n",
    "print(sc)"
   ]
  },
  {
   "cell_type": "code",
   "execution_count": 3,
   "id": "973d5c7f-f075-4c5e-a093-2ffbad84ebcf",
   "metadata": {},
   "outputs": [
    {
     "name": "stdout",
     "output_type": "stream",
     "text": [
      "+-------------+------------------+--------------------+------------------+--------------------+-----------------+\n",
      "|          _c0|               _c1|                 _c2|               _c3|                 _c4|              _c5|\n",
      "+-------------+------------------+--------------------+------------------+--------------------+-----------------+\n",
      "|    Member_ID|   PCP_Provider_ID|   PayTo_Provider_ID|PCP_Effective_Date|PCP_Termination_Date| PayTo_Affil_Type|\n",
      "|FL19152211200|QMP000000000000625|QMP00000000000099...|        11/01/2021|          04/30/2022|PayTo_Affil_Type1|\n",
      "|FL19152211200|QMP000000000000625|QMP00000000000099...|        11/01/2021|          04/30/2022|PayTo_Affil_Type2|\n",
      "|FL19152211200|QMP000000000000625|QMP00000000000099...|        11/01/2021|          04/30/2022|PayTo_Affil_Type3|\n",
      "|FL19152211200|QMP000000000000625|QMP00000000000099...|        11/01/2021|          04/30/2022|PayTo_Affil_Type4|\n",
      "|    Member_ID|   PCP_Provider_ID|   PayTo_Provider_ID|PCP_Effective_Date|PCP_Termination_Date| PayTo_Affil_Type|\n",
      "|FL19152211200|QMP000000000000625|QMP00000000000099...|        11/01/2021|          04/30/2022|PayTo_Affil_Type1|\n",
      "|FL19152211200|QMP000000000000625|QMP00000000000099...|        11/01/2021|          04/30/2022|PayTo_Affil_Type2|\n",
      "|FL19152211200|QMP000000000000625|QMP00000000000099...|        11/01/2021|          04/30/2022|PayTo_Affil_Type3|\n",
      "|FL19152211200|QMP000000000000625|QMP00000000000099...|        11/01/2021|          04/30/2022|PayTo_Affil_Type4|\n",
      "+-------------+------------------+--------------------+------------------+--------------------+-----------------+\n",
      "\n",
      "root\n",
      " |-- _c0: string (nullable = true)\n",
      " |-- _c1: string (nullable = true)\n",
      " |-- _c2: string (nullable = true)\n",
      " |-- _c3: string (nullable = true)\n",
      " |-- _c4: string (nullable = true)\n",
      " |-- _c5: string (nullable = true)\n",
      "\n",
      "+-------------+------------------+------------------------+------------------+--------------------+-----------------+\n",
      "|_c0          |_c1               |_c2                     |_c3               |_c4                 |_c5              |\n",
      "+-------------+------------------+------------------------+------------------+--------------------+-----------------+\n",
      "|Member_ID    |PCP_Provider_ID   |PayTo_Provider_ID       |PCP_Effective_Date|PCP_Termination_Date|PayTo_Affil_Type |\n",
      "|FL19152211200|QMP000000000000625|QMP000000000000999999374|11/01/2021        |04/30/2022          |PayTo_Affil_Type1|\n",
      "|FL19152211200|QMP000000000000625|QMP000000000000999999600|11/01/2021        |04/30/2022          |PayTo_Affil_Type2|\n",
      "|FL19152211200|QMP000000000000625|QMP000000000000999999789|11/01/2021        |04/30/2022          |PayTo_Affil_Type3|\n",
      "|FL19152211200|QMP000000000000625|QMP000000000000999999800|11/01/2021        |04/30/2022          |PayTo_Affil_Type4|\n",
      "+-------------+------------------+------------------------+------------------+--------------------+-----------------+\n",
      "only showing top 5 rows\n",
      "\n",
      "+-------------+------------------+--------------------+------------------+--------------------+-----------------+\n",
      "|    Member_ID|   PCP_Provider_ID|   PayTo_Provider_ID|PCP_Effective_Date|PCP_Termination_Date| PayTo_Affil_Type|\n",
      "+-------------+------------------+--------------------+------------------+--------------------+-----------------+\n",
      "|FL19152211200|QMP000000000000625|QMP00000000000099...|        11/01/2021|          04/30/2022|PayTo_Affil_Type1|\n",
      "|FL19152211200|QMP000000000000625|QMP00000000000099...|        11/01/2021|          04/30/2022|PayTo_Affil_Type2|\n",
      "|FL19152211200|QMP000000000000625|QMP00000000000099...|        11/01/2021|          04/30/2022|PayTo_Affil_Type3|\n",
      "|FL19152211200|QMP000000000000625|QMP00000000000099...|        11/01/2021|          04/30/2022|PayTo_Affil_Type4|\n",
      "|FL19152211200|QMP000000000000625|QMP00000000000099...|        11/01/2021|          04/30/2022|PayTo_Affil_Type1|\n",
      "|FL19152211200|QMP000000000000625|QMP00000000000099...|        11/01/2021|          04/30/2022|PayTo_Affil_Type2|\n",
      "|FL19152211200|QMP000000000000625|QMP00000000000099...|        11/01/2021|          04/30/2022|PayTo_Affil_Type3|\n",
      "|FL19152211200|QMP000000000000625|QMP00000000000099...|        11/01/2021|          04/30/2022|PayTo_Affil_Type4|\n",
      "+-------------+------------------+--------------------+------------------+--------------------+-----------------+\n",
      "\n",
      "root\n",
      " |-- Member_ID: string (nullable = true)\n",
      " |-- PCP_Provider_ID: string (nullable = true)\n",
      " |-- PayTo_Provider_ID: string (nullable = true)\n",
      " |-- PCP_Effective_Date: string (nullable = true)\n",
      " |-- PCP_Termination_Date: string (nullable = true)\n",
      " |-- PayTo_Affil_Type: string (nullable = true)\n",
      "\n",
      "+-------------+------------------+------------------------+------------------+--------------------+-----------------+\n",
      "|Member_ID    |PCP_Provider_ID   |PayTo_Provider_ID       |PCP_Effective_Date|PCP_Termination_Date|PayTo_Affil_Type |\n",
      "+-------------+------------------+------------------------+------------------+--------------------+-----------------+\n",
      "|FL19152211200|QMP000000000000625|QMP000000000000999999374|11/01/2021        |04/30/2022          |PayTo_Affil_Type1|\n",
      "|FL19152211200|QMP000000000000625|QMP000000000000999999600|11/01/2021        |04/30/2022          |PayTo_Affil_Type2|\n",
      "|FL19152211200|QMP000000000000625|QMP000000000000999999789|11/01/2021        |04/30/2022          |PayTo_Affil_Type3|\n",
      "|FL19152211200|QMP000000000000625|QMP000000000000999999800|11/01/2021        |04/30/2022          |PayTo_Affil_Type4|\n",
      "|FL19152211200|QMP000000000000625|QMP000000000000999999374|11/01/2021        |04/30/2022          |PayTo_Affil_Type1|\n",
      "+-------------+------------------+------------------------+------------------+--------------------+-----------------+\n",
      "only showing top 5 rows\n",
      "\n",
      "+-------------+------------------+--------------------+------------------+--------------------+-----------------+\n",
      "|    Member_ID|   PCP_Provider_ID|   PayTo_Provider_ID|PCP_Effective_Date|PCP_Termination_Date| PayTo_Affil_Type|\n",
      "+-------------+------------------+--------------------+------------------+--------------------+-----------------+\n",
      "|FL19152211200|QMP000000000000625|QMP00000000000099...|        11/01/2021|          04/30/2022|PayTo_Affil_Type1|\n",
      "|FL19152211200|QMP000000000000625|QMP00000000000099...|        11/01/2021|          04/30/2022|PayTo_Affil_Type2|\n",
      "|FL19152211200|QMP000000000000625|QMP00000000000099...|        11/01/2021|          04/30/2022|PayTo_Affil_Type3|\n",
      "|FL19152211200|QMP000000000000625|QMP00000000000099...|        11/01/2021|          04/30/2022|PayTo_Affil_Type4|\n",
      "|FL19152211200|QMP000000000000625|QMP00000000000099...|        11/01/2021|          04/30/2022|PayTo_Affil_Type1|\n",
      "|FL19152211200|QMP000000000000625|QMP00000000000099...|        11/01/2021|          04/30/2022|PayTo_Affil_Type2|\n",
      "|FL19152211200|QMP000000000000625|QMP00000000000099...|        11/01/2021|          04/30/2022|PayTo_Affil_Type3|\n",
      "|FL19152211200|QMP000000000000625|QMP00000000000099...|        11/01/2021|          04/30/2022|PayTo_Affil_Type4|\n",
      "+-------------+------------------+--------------------+------------------+--------------------+-----------------+\n",
      "\n",
      "root\n",
      " |-- Member_ID: string (nullable = true)\n",
      " |-- PCP_Provider_ID: string (nullable = true)\n",
      " |-- PayTo_Provider_ID: string (nullable = true)\n",
      " |-- PCP_Effective_Date: string (nullable = true)\n",
      " |-- PCP_Termination_Date: string (nullable = true)\n",
      " |-- PayTo_Affil_Type: string (nullable = true)\n",
      "\n"
     ]
    }
   ],
   "source": [
    "#To load the Csv file to the spark seesion\n",
    "df = spark.read.load(path='D:\\SpectraMD\\Feed\\Attribution',format='csv',sep = '|')\n",
    "#header is not mentioned then columns will be named as c0,c1,c2\n",
    "df.show()\n",
    "df.printSchema() # all the columns have the string a the datatype\n",
    "# to view the truncated columns \n",
    "df.show(5,truncate=False)\n",
    "\n",
    "df = spark.read.load(path='D:\\SpectraMD\\Feed\\Attribution',format='csv',sep = '|',header=True)# if headwer is true first row will act like headers\n",
    "df.show()\n",
    "df.printSchema() # all the columns have the string a the datatype\n",
    "# to view the truncated columns \n",
    "df.show(5,truncate=False)\n",
    "\n",
    "#Setting the interSchema = True\n",
    "df = spark.read.load(path='D:\\SpectraMD\\Feed\\Attribution',format='csv',sep = '|',header=True,inferSchema=True)\n",
    "df.show()\n",
    "df.printSchema() "
   ]
  },
  {
   "cell_type": "code",
   "execution_count": 10,
   "id": "fd84943b-570a-434f-a13a-44d077d4e553",
   "metadata": {},
   "outputs": [
    {
     "name": "stdout",
     "output_type": "stream",
     "text": [
      "+----------------------------------------------------------------------------------------------------+\n",
      "|value                                                                                               |\n",
      "+----------------------------------------------------------------------------------------------------+\n",
      "|Member_ID|PCP_Provider_ID|PayTo_Provider_ID|PCP_Effective_Date|PCP_Termination_Date|PayTo_Affil_Type|\n",
      "|FL19152211200|QMP000000000000625|QMP000000000000999999374|11/01/2021|04/30/2022|PayTo_Affil_Type1   |\n",
      "|FL19152211200|QMP000000000000625|QMP000000000000999999600|11/01/2021|04/30/2022|PayTo_Affil_Type2   |\n",
      "|FL19152211200|QMP000000000000625|QMP000000000000999999789|11/01/2021|04/30/2022|PayTo_Affil_Type3   |\n",
      "|FL19152211200|QMP000000000000625|QMP000000000000999999800|11/01/2021|04/30/2022|PayTo_Affil_Type4   |\n",
      "+----------------------------------------------------------------------------------------------------+\n",
      "only showing top 5 rows\n",
      "\n",
      "+------------------------------------------------------------------------------------------------------------------------------------------------------------------------------------------------------------------------------------------------------------------------------------------------------------------------------------------------------------------------------------------------------------------------------------------------------------------------------------------------------------------------+\n",
      "|value                                                                                                                                                                                                                                                                                                                                                                                                                                                                                                                   |\n",
      "+------------------------------------------------------------------------------------------------------------------------------------------------------------------------------------------------------------------------------------------------------------------------------------------------------------------------------------------------------------------------------------------------------------------------------------------------------------------------------------------------------------------------+\n",
      "|Member_ID|PCP_Provider_ID|PayTo_Provider_ID|PCP_Effective_Date|PCP_Termination_Date|PayTo_Affil_Type\\r\\nFL19152211200|QMP000000000000625|QMP000000000000999999374|11/01/2021|04/30/2022|PayTo_Affil_Type1\\r\\nFL19152211200|QMP000000000000625|QMP000000000000999999600|11/01/2021|04/30/2022|PayTo_Affil_Type2\\r\\nFL19152211200|QMP000000000000625|QMP000000000000999999789|11/01/2021|04/30/2022|PayTo_Affil_Type3\\r\\nFL19152211200|QMP000000000000625|QMP000000000000999999800|11/01/2021|04/30/2022|PayTo_Affil_Type4|\n",
      "+------------------------------------------------------------------------------------------------------------------------------------------------------------------------------------------------------------------------------------------------------------------------------------------------------------------------------------------------------------------------------------------------------------------------------------------------------------------------------------------------------------------------+\n",
      "only showing top 1 row\n",
      "\n"
     ]
    }
   ],
   "source": [
    "#If the format is text the each row will act like a single colunn value\n",
    "df = spark.read.load(path='D:\\SpectraMD\\Feed\\Attribution',format='text')\n",
    "df.show(5,truncate=False)\n",
    "\n",
    "#if wholetext=true the entire the will loaded as single value\n",
    "df = spark.read.load(path='D:\\SpectraMD\\Feed\\Attribution',format='text',wholeText=True)\n",
    "df.show(1,truncate=False)\n"
   ]
  },
  {
   "cell_type": "code",
   "execution_count": 11,
   "id": "2fdccc1c-fe41-4c01-9f17-386ca4043298",
   "metadata": {},
   "outputs": [
    {
     "name": "stdout",
     "output_type": "stream",
     "text": [
      "+----------------------+----------+------------+-----------+--------------+---------+\n",
      "|Health_Plan_State_code| Rate_Code| Description|Update_date|Effective_Date|Term_Date|\n",
      "+----------------------+----------+------------+-----------+--------------+---------+\n",
      "|  Health_Plan_State...|Rate_Code1|Description1|       null|          null|     null|\n",
      "|  Health_Plan_State...|Rate_Code2|Description2|       null|          null|     null|\n",
      "+----------------------+----------+------------+-----------+--------------+---------+\n",
      "\n",
      "root\n",
      " |-- Health_Plan_State_code: string (nullable = true)\n",
      " |-- Rate_Code: string (nullable = true)\n",
      " |-- Description: string (nullable = true)\n",
      " |-- Update_date: string (nullable = true)\n",
      " |-- Effective_Date: string (nullable = true)\n",
      " |-- Term_Date: string (nullable = true)\n",
      "\n"
     ]
    }
   ],
   "source": [
    "#Loading parquet file to spark\n",
    "df = spark.read.load(path=\"D:\\\\SpectraMD\\\\zipfile\\\\aplha1\\\\20231225\\\\Feedzip\\\\test\",format='parquet')\n",
    "df.show()\n",
    "df.printSchema()\n"
   ]
  },
  {
   "cell_type": "code",
   "execution_count": null,
   "id": "5d529c4c-7540-4ce0-b5ed-5a3ce335cf4e",
   "metadata": {},
   "outputs": [],
   "source": []
  }
 ],
 "metadata": {
  "kernelspec": {
   "display_name": "Python 3 (ipykernel)",
   "language": "python",
   "name": "python3"
  },
  "language_info": {
   "codemirror_mode": {
    "name": "ipython",
    "version": 3
   },
   "file_extension": ".py",
   "mimetype": "text/x-python",
   "name": "python",
   "nbconvert_exporter": "python",
   "pygments_lexer": "ipython3",
   "version": "3.10.12"
  }
 },
 "nbformat": 4,
 "nbformat_minor": 5
}
